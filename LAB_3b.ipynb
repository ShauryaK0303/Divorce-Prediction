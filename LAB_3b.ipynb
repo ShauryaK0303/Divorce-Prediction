{
  "nbformat": 4,
  "nbformat_minor": 0,
  "metadata": {
    "colab": {
      "provenance": [],
      "include_colab_link": true
    },
    "kernelspec": {
      "name": "python3",
      "display_name": "Python 3"
    },
    "language_info": {
      "name": "python"
    }
  },
  "cells": [
    {
      "cell_type": "markdown",
      "metadata": {
        "id": "view-in-github",
        "colab_type": "text"
      },
      "source": [
        "<a href=\"https://colab.research.google.com/github/ShauryaK0303/Divorce-Prediction/blob/main/LAB_3b.ipynb\" target=\"_parent\"><img src=\"https://colab.research.google.com/assets/colab-badge.svg\" alt=\"Open In Colab\"/></a>"
      ]
    },
    {
      "cell_type": "code",
      "execution_count": null,
      "metadata": {
        "id": "T6Q-8iSvNDsV"
      },
      "outputs": [],
      "source": []
    },
    {
      "cell_type": "code",
      "source": [
        "import pandas as pd\n",
        "from sklearn.metrics.pairwise import cosine_similarity\n",
        "import numpy as np"
      ],
      "metadata": {
        "id": "B-NwhzLjNwob"
      },
      "execution_count": null,
      "outputs": []
    },
    {
      "cell_type": "code",
      "source": [
        "\n",
        "movies = pd.read_csv('movies.csv')\n",
        "ratings = pd.read_csv('ratings.csv')"
      ],
      "metadata": {
        "id": "MUGE0qnCNzkH"
      },
      "execution_count": null,
      "outputs": []
    },
    {
      "cell_type": "code",
      "source": [
        "\n",
        "#User-Item Interaction Matrix\n",
        "user_item_matrix = ratings.pivot(index='movieId', columns='userId', values='rating')\n",
        "print(user_item_matrix.head())"
      ],
      "metadata": {
        "colab": {
          "base_uri": "https://localhost:8080/"
        },
        "id": "n_ehBQKLN2Ha",
        "outputId": "e2395647-ace0-4c54-e20c-eb8526bf7fb3"
      },
      "execution_count": null,
      "outputs": [
        {
          "output_type": "stream",
          "name": "stdout",
          "text": [
            "userId   1    2    3    4    5    6    7    8    9    10   ...  601  602  603  \\\n",
            "movieId                                                    ...                  \n",
            "1        4.0  NaN  NaN  NaN  4.0  NaN  4.5  NaN  NaN  NaN  ...  4.0  NaN  4.0   \n",
            "2        NaN  NaN  NaN  NaN  NaN  4.0  NaN  4.0  NaN  NaN  ...  NaN  4.0  NaN   \n",
            "3        4.0  NaN  NaN  NaN  NaN  5.0  NaN  NaN  NaN  NaN  ...  NaN  NaN  NaN   \n",
            "4        NaN  NaN  NaN  NaN  NaN  3.0  NaN  NaN  NaN  NaN  ...  NaN  NaN  NaN   \n",
            "5        NaN  NaN  NaN  NaN  NaN  5.0  NaN  NaN  NaN  NaN  ...  NaN  NaN  NaN   \n",
            "\n",
            "userId   604  605  606  607  608  609  610  \n",
            "movieId                                     \n",
            "1        3.0  4.0  2.5  4.0  2.5  3.0  5.0  \n",
            "2        5.0  3.5  NaN  NaN  2.0  NaN  NaN  \n",
            "3        NaN  NaN  NaN  NaN  2.0  NaN  NaN  \n",
            "4        NaN  NaN  NaN  NaN  NaN  NaN  NaN  \n",
            "5        3.0  NaN  NaN  NaN  NaN  NaN  NaN  \n",
            "\n",
            "[5 rows x 610 columns]\n"
          ]
        }
      ]
    },
    {
      "cell_type": "code",
      "source": [
        "\n",
        "user_item_matrix_filled = user_item_matrix.fillna(0) #missing value ->0\n",
        "\n",
        "print(user_item_matrix_filled.head())"
      ],
      "metadata": {
        "colab": {
          "base_uri": "https://localhost:8080/"
        },
        "id": "T1jiKLyrN4p3",
        "outputId": "f2513c4a-e9bb-41db-cae4-e0c6647e3c35"
      },
      "execution_count": null,
      "outputs": [
        {
          "output_type": "stream",
          "name": "stdout",
          "text": [
            "userId   1    2    3    4    5    6    7    8    9    10   ...  601  602  603  \\\n",
            "movieId                                                    ...                  \n",
            "1        4.0  0.0  0.0  0.0  4.0  0.0  4.5  0.0  0.0  0.0  ...  4.0  0.0  4.0   \n",
            "2        0.0  0.0  0.0  0.0  0.0  4.0  0.0  4.0  0.0  0.0  ...  0.0  4.0  0.0   \n",
            "3        4.0  0.0  0.0  0.0  0.0  5.0  0.0  0.0  0.0  0.0  ...  0.0  0.0  0.0   \n",
            "4        0.0  0.0  0.0  0.0  0.0  3.0  0.0  0.0  0.0  0.0  ...  0.0  0.0  0.0   \n",
            "5        0.0  0.0  0.0  0.0  0.0  5.0  0.0  0.0  0.0  0.0  ...  0.0  0.0  0.0   \n",
            "\n",
            "userId   604  605  606  607  608  609  610  \n",
            "movieId                                     \n",
            "1        3.0  4.0  2.5  4.0  2.5  3.0  5.0  \n",
            "2        5.0  3.5  0.0  0.0  2.0  0.0  0.0  \n",
            "3        0.0  0.0  0.0  0.0  2.0  0.0  0.0  \n",
            "4        0.0  0.0  0.0  0.0  0.0  0.0  0.0  \n",
            "5        3.0  0.0  0.0  0.0  0.0  0.0  0.0  \n",
            "\n",
            "[5 rows x 610 columns]\n"
          ]
        }
      ]
    },
    {
      "cell_type": "code",
      "source": [
        "item_similarity1 = cosine_similarity(user_item_matrix_filled)\n",
        "print(item_similarity1)\n",
        "item_similarity2 = user_item_matrix_filled.T.corr()\n",
        "print(item_similarity2)"
      ],
      "metadata": {
        "colab": {
          "base_uri": "https://localhost:8080/"
        },
        "id": "XV_qHkTTOHmh",
        "outputId": "5c1e932f-a003-45c2-cf84-025708435c7c"
      },
      "execution_count": null,
      "outputs": [
        {
          "output_type": "stream",
          "name": "stdout",
          "text": [
            "[[1.         0.41056206 0.2969169  ... 0.         0.         0.        ]\n",
            " [0.41056206 1.         0.28243799 ... 0.         0.         0.        ]\n",
            " [0.2969169  0.28243799 1.         ... 0.         0.         0.        ]\n",
            " ...\n",
            " [0.         0.         0.         ... 1.         1.         0.        ]\n",
            " [0.         0.         0.         ... 1.         1.         0.        ]\n",
            " [0.         0.         0.         ... 0.         0.         1.        ]]\n",
            "movieId    1         2         3         4         5         6         7       \\\n",
            "movieId                                                                         \n",
            "1        1.000000  0.231327  0.173213 -0.028917  0.192474  0.192686  0.143743   \n",
            "2        0.231327  1.000000  0.191945  0.071269  0.200526  0.158341  0.127569   \n",
            "3        0.173213  0.191945  1.000000  0.067143  0.370171  0.196442  0.351513   \n",
            "4       -0.028917  0.071269  0.067143  1.000000  0.167910  0.053755  0.258075   \n",
            "5        0.192474  0.200526  0.370171  0.167910  1.000000  0.215503  0.429890   \n",
            "...           ...       ...       ...       ...       ...       ...       ...   \n",
            "193581  -0.028906 -0.018291 -0.011729 -0.004138 -0.011456 -0.017712 -0.012033   \n",
            "193583  -0.028906 -0.018291 -0.011729 -0.004138 -0.011456 -0.017712 -0.012033   \n",
            "193585  -0.028906 -0.018291 -0.011729 -0.004138 -0.011456 -0.017712 -0.012033   \n",
            "193587  -0.028906 -0.018291 -0.011729 -0.004138 -0.011456 -0.017712 -0.012033   \n",
            "193609  -0.028906 -0.018291 -0.011729 -0.004138 -0.011456 -0.017712 -0.012033   \n",
            "\n",
            "movieId    8         9         10      ...    193565    193567    193571  \\\n",
            "movieId                                ...                                 \n",
            "1        0.085477  0.177245  0.183382  ... -0.028906 -0.028906 -0.028906   \n",
            "2        0.141540 -0.021045  0.285086  ... -0.018291 -0.018291 -0.018291   \n",
            "3        0.296897  0.275812  0.136916  ... -0.011729 -0.011729 -0.011729   \n",
            "4        0.148726 -0.016025  0.056000  ... -0.004138 -0.004138 -0.004138   \n",
            "5        0.265777  0.308085  0.110833  ... -0.011456 -0.011456 -0.011456   \n",
            "...           ...       ...       ...  ...       ...       ...       ...   \n",
            "193581  -0.004383 -0.006359 -0.020524  ...  1.000000  1.000000  1.000000   \n",
            "193583  -0.004383 -0.006359 -0.020524  ...  1.000000  1.000000  1.000000   \n",
            "193585  -0.004383 -0.006359 -0.020524  ...  1.000000  1.000000  1.000000   \n",
            "193587  -0.004383 -0.006359 -0.020524  ...  1.000000  1.000000  1.000000   \n",
            "193609  -0.004383 -0.006359  0.060859  ... -0.001642 -0.001642 -0.001642   \n",
            "\n",
            "movieId    193573    193579    193581    193583    193585    193587    193609  \n",
            "movieId                                                                        \n",
            "1       -0.028906 -0.028906 -0.028906 -0.028906 -0.028906 -0.028906 -0.028906  \n",
            "2       -0.018291 -0.018291 -0.018291 -0.018291 -0.018291 -0.018291 -0.018291  \n",
            "3       -0.011729 -0.011729 -0.011729 -0.011729 -0.011729 -0.011729 -0.011729  \n",
            "4       -0.004138 -0.004138 -0.004138 -0.004138 -0.004138 -0.004138 -0.004138  \n",
            "5       -0.011456 -0.011456 -0.011456 -0.011456 -0.011456 -0.011456 -0.011456  \n",
            "...           ...       ...       ...       ...       ...       ...       ...  \n",
            "193581   1.000000  1.000000  1.000000  1.000000  1.000000  1.000000 -0.001642  \n",
            "193583   1.000000  1.000000  1.000000  1.000000  1.000000  1.000000 -0.001642  \n",
            "193585   1.000000  1.000000  1.000000  1.000000  1.000000  1.000000 -0.001642  \n",
            "193587   1.000000  1.000000  1.000000  1.000000  1.000000  1.000000 -0.001642  \n",
            "193609  -0.001642 -0.001642 -0.001642 -0.001642 -0.001642 -0.001642  1.000000  \n",
            "\n",
            "[9724 rows x 9724 columns]\n"
          ]
        }
      ]
    },
    {
      "cell_type": "code",
      "source": [
        "item_similarity_df1 = pd.DataFrame(item_similarity1, index=user_item_matrix.index, columns=user_item_matrix.index)\n",
        "print(item_similarity_df1.head(10))"
      ],
      "metadata": {
        "colab": {
          "base_uri": "https://localhost:8080/"
        },
        "id": "5G-F1t8uON46",
        "outputId": "e0377ff8-f3af-410e-e97b-ae0f3fcf0931"
      },
      "execution_count": null,
      "outputs": [
        {
          "output_type": "stream",
          "name": "stdout",
          "text": [
            "movieId    1         2         3         4         5         6         7       \\\n",
            "movieId                                                                         \n",
            "1        1.000000  0.410562  0.296917  0.035573  0.308762  0.376316  0.277491   \n",
            "2        0.410562  1.000000  0.282438  0.106415  0.287795  0.297009  0.228576   \n",
            "3        0.296917  0.282438  1.000000  0.092406  0.417802  0.284257  0.402831   \n",
            "4        0.035573  0.106415  0.092406  1.000000  0.188376  0.089685  0.275035   \n",
            "5        0.308762  0.287795  0.417802  0.188376  1.000000  0.298969  0.474002   \n",
            "6        0.376316  0.297009  0.284257  0.089685  0.298969  1.000000  0.244105   \n",
            "7        0.277491  0.228576  0.402831  0.275035  0.474002  0.244105  1.000000   \n",
            "8        0.131629  0.172498  0.313434  0.158022  0.283523  0.147562  0.273757   \n",
            "9        0.232586  0.044835  0.304840  0.000000  0.335058  0.214088  0.162000   \n",
            "10       0.395573  0.417693  0.242954  0.095598  0.218061  0.386414  0.238949   \n",
            "\n",
            "movieId    8         9         10      ...  193565  193567  193571  193573  \\\n",
            "movieId                                ...                                   \n",
            "1        0.131629  0.232586  0.395573  ...     0.0     0.0     0.0     0.0   \n",
            "2        0.172498  0.044835  0.417693  ...     0.0     0.0     0.0     0.0   \n",
            "3        0.313434  0.304840  0.242954  ...     0.0     0.0     0.0     0.0   \n",
            "4        0.158022  0.000000  0.095598  ...     0.0     0.0     0.0     0.0   \n",
            "5        0.283523  0.335058  0.218061  ...     0.0     0.0     0.0     0.0   \n",
            "6        0.147562  0.214088  0.386414  ...     0.0     0.0     0.0     0.0   \n",
            "7        0.273757  0.162000  0.238949  ...     0.0     0.0     0.0     0.0   \n",
            "8        1.000000  0.000000  0.189867  ...     0.0     0.0     0.0     0.0   \n",
            "9        0.000000  1.000000  0.048611  ...     0.0     0.0     0.0     0.0   \n",
            "10       0.189867  0.048611  1.000000  ...     0.0     0.0     0.0     0.0   \n",
            "\n",
            "movieId  193579  193581  193583  193585  193587    193609  \n",
            "movieId                                                    \n",
            "1           0.0     0.0     0.0     0.0     0.0  0.000000  \n",
            "2           0.0     0.0     0.0     0.0     0.0  0.000000  \n",
            "3           0.0     0.0     0.0     0.0     0.0  0.000000  \n",
            "4           0.0     0.0     0.0     0.0     0.0  0.000000  \n",
            "5           0.0     0.0     0.0     0.0     0.0  0.000000  \n",
            "6           0.0     0.0     0.0     0.0     0.0  0.000000  \n",
            "7           0.0     0.0     0.0     0.0     0.0  0.000000  \n",
            "8           0.0     0.0     0.0     0.0     0.0  0.000000  \n",
            "9           0.0     0.0     0.0     0.0     0.0  0.000000  \n",
            "10          0.0     0.0     0.0     0.0     0.0  0.072542  \n",
            "\n",
            "[10 rows x 9724 columns]\n"
          ]
        }
      ]
    },
    {
      "cell_type": "code",
      "source": [
        "\n",
        "item_similarity_df2 = pd.DataFrame(item_similarity2, index=user_item_matrix.index, columns=user_item_matrix.index)\n",
        "print(item_similarity_df2.head(10))"
      ],
      "metadata": {
        "colab": {
          "base_uri": "https://localhost:8080/"
        },
        "id": "DvUiPv-GFVOh",
        "outputId": "d4244950-8228-4061-f8dc-91796fb407ae"
      },
      "execution_count": null,
      "outputs": [
        {
          "output_type": "stream",
          "name": "stdout",
          "text": [
            "movieId    1         2         3         4         5         6         7       \\\n",
            "movieId                                                                         \n",
            "1        1.000000  0.231327  0.173213 -0.028917  0.192474  0.192686  0.143743   \n",
            "2        0.231327  1.000000  0.191945  0.071269  0.200526  0.158341  0.127569   \n",
            "3        0.173213  0.191945  1.000000  0.067143  0.370171  0.196442  0.351513   \n",
            "4       -0.028917  0.071269  0.067143  1.000000  0.167910  0.053755  0.258075   \n",
            "5        0.192474  0.200526  0.370171  0.167910  1.000000  0.215503  0.429890   \n",
            "6        0.192686  0.158341  0.196442  0.053755  0.215503  1.000000  0.148109   \n",
            "7        0.143743  0.127569  0.351513  0.258075  0.429890  0.148109  1.000000   \n",
            "8        0.085477  0.141540  0.296897  0.148726  0.265777  0.114707  0.255120   \n",
            "9        0.177245 -0.021045  0.275812 -0.016025  0.308085  0.167909  0.124458   \n",
            "10       0.183382  0.285086  0.136916  0.056000  0.110833  0.251343  0.129010   \n",
            "\n",
            "movieId    8         9         10      ...    193565    193567    193571  \\\n",
            "movieId                                ...                                 \n",
            "1        0.085477  0.177245  0.183382  ... -0.028906 -0.028906 -0.028906   \n",
            "2        0.141540 -0.021045  0.285086  ... -0.018291 -0.018291 -0.018291   \n",
            "3        0.296897  0.275812  0.136916  ... -0.011729 -0.011729 -0.011729   \n",
            "4        0.148726 -0.016025  0.056000  ... -0.004138 -0.004138 -0.004138   \n",
            "5        0.265777  0.308085  0.110833  ... -0.011456 -0.011456 -0.011456   \n",
            "6        0.114707  0.167909  0.251343  ... -0.017712 -0.017712 -0.017712   \n",
            "7        0.255120  0.124458  0.129010  ... -0.012033 -0.012033 -0.012033   \n",
            "8        1.000000 -0.016974  0.159292  ... -0.004383 -0.004383 -0.004383   \n",
            "9       -0.016974  1.000000 -0.024328  ... -0.006359 -0.006359 -0.006359   \n",
            "10       0.159292 -0.024328  1.000000  ... -0.020524 -0.020524 -0.020524   \n",
            "\n",
            "movieId    193573    193579    193581    193583    193585    193587    193609  \n",
            "movieId                                                                        \n",
            "1       -0.028906 -0.028906 -0.028906 -0.028906 -0.028906 -0.028906 -0.028906  \n",
            "2       -0.018291 -0.018291 -0.018291 -0.018291 -0.018291 -0.018291 -0.018291  \n",
            "3       -0.011729 -0.011729 -0.011729 -0.011729 -0.011729 -0.011729 -0.011729  \n",
            "4       -0.004138 -0.004138 -0.004138 -0.004138 -0.004138 -0.004138 -0.004138  \n",
            "5       -0.011456 -0.011456 -0.011456 -0.011456 -0.011456 -0.011456 -0.011456  \n",
            "6       -0.017712 -0.017712 -0.017712 -0.017712 -0.017712 -0.017712 -0.017712  \n",
            "7       -0.012033 -0.012033 -0.012033 -0.012033 -0.012033 -0.012033 -0.012033  \n",
            "8       -0.004383 -0.004383 -0.004383 -0.004383 -0.004383 -0.004383 -0.004383  \n",
            "9       -0.006359 -0.006359 -0.006359 -0.006359 -0.006359 -0.006359 -0.006359  \n",
            "10      -0.020524 -0.020524 -0.020524 -0.020524 -0.020524 -0.020524  0.060859  \n",
            "\n",
            "[10 rows x 9724 columns]\n"
          ]
        }
      ]
    },
    {
      "cell_type": "code",
      "source": [
        "sim_scores1 = item_similarity_df1[1]\n",
        "print(sim_scores1)"
      ],
      "metadata": {
        "colab": {
          "base_uri": "https://localhost:8080/"
        },
        "id": "uRt_bHlcO28s",
        "outputId": "b831a853-5121-4187-ced6-4ebdfa256f9b"
      },
      "execution_count": null,
      "outputs": [
        {
          "output_type": "stream",
          "name": "stdout",
          "text": [
            "movieId\n",
            "1         1.000000\n",
            "2         0.410562\n",
            "3         0.296917\n",
            "4         0.035573\n",
            "5         0.308762\n",
            "            ...   \n",
            "193581    0.000000\n",
            "193583    0.000000\n",
            "193585    0.000000\n",
            "193587    0.000000\n",
            "193609    0.000000\n",
            "Name: 1, Length: 9724, dtype: float64\n"
          ]
        }
      ]
    },
    {
      "cell_type": "code",
      "source": [
        "sim_scores2 = item_similarity_df2[1]\n",
        "print(sim_scores2)"
      ],
      "metadata": {
        "colab": {
          "base_uri": "https://localhost:8080/"
        },
        "id": "mXSVVKFSFjs4",
        "outputId": "5209dd5b-1ae0-4e6b-b657-53350380d50c"
      },
      "execution_count": null,
      "outputs": [
        {
          "output_type": "stream",
          "name": "stdout",
          "text": [
            "movieId\n",
            "1         1.000000\n",
            "2         0.231327\n",
            "3         0.173213\n",
            "4        -0.028917\n",
            "5         0.192474\n",
            "            ...   \n",
            "193581   -0.028906\n",
            "193583   -0.028906\n",
            "193585   -0.028906\n",
            "193587   -0.028906\n",
            "193609   -0.028906\n",
            "Name: 1, Length: 9724, dtype: float64\n"
          ]
        }
      ]
    },
    {
      "cell_type": "code",
      "source": [
        "\n",
        "# item_predicted_ratings = pd.DataFrame(index=user_item_matrix.index, columns=user_item_matrix.columns)\n",
        "\n",
        "# # Iterate over all users\n",
        "# for item in user_item_matrix.index:\n",
        "#     # Get the similarity scores for this user\n",
        "#     sim_scores = item_similarity_df[item]\n",
        "#     # Calculate the weighted sum of ratings for each item\n",
        "#     weighted_sum = sim_scores.values @ user_item_matrix_filled\n",
        "#     # Calculate the sum of similarity scores\n",
        "#     sim_sum = np.abs(sim_scores).sum()\n",
        "#     # Predict the ratings\n",
        "#     item_predicted_ratings.loc[item] = weighted_sum / sim_sum\n",
        "\n",
        "\n",
        "##########################################################\n",
        "# combine\n",
        "##########################################################\n",
        "\n",
        "\n",
        "\n",
        "\n",
        "item_predicted_ratings = pd.DataFrame(index=user_item_matrix.index, columns=user_item_matrix.columns)\n",
        "\n",
        "\n",
        "combined_similarity_df = 0.3 * item_similarity_df1 + 0.7 * item_similarity_df2\n",
        "\n",
        "\n",
        "for item in user_item_matrix.index:\n",
        "\n",
        "    sim_scores = combined_similarity_df[item]\n",
        "    weighted_sum = sim_scores.values @ user_item_matrix_filled\n",
        "    sim_sum = np.abs(sim_scores).sum()\n",
        "    item_predicted_ratings.loc[item] = weighted_sum / sim_sum if sim_sum != 0 else np.nan  # Handle division by zero\n"
      ],
      "metadata": {
        "id": "Lj23udhsPBYn"
      },
      "execution_count": null,
      "outputs": []
    },
    {
      "cell_type": "code",
      "source": [
        "print(item_predicted_ratings.head(2))"
      ],
      "metadata": {
        "colab": {
          "base_uri": "https://localhost:8080/"
        },
        "id": "wuq5olBAPT_z",
        "outputId": "2458289f-41bb-4cc4-f05f-7834792d39b6"
      },
      "execution_count": null,
      "outputs": [
        {
          "output_type": "stream",
          "name": "stdout",
          "text": [
            "userId        1         2         3         4         5         6         7    \\\n",
            "movieId                                                                         \n",
            "1        0.288521  0.018772  0.008413  0.163262  0.052757  0.202698  0.154999   \n",
            "2        0.235079  0.019574  0.007911  0.114035  0.049303  0.266816  0.134038   \n",
            "\n",
            "userId        8         9         10   ...       601       602       603  \\\n",
            "movieId                                ...                                 \n",
            "1        0.057526   0.02863  0.074984  ...  0.121699   0.11723  0.575085   \n",
            "2        0.067624  0.025869   0.08105  ...  0.094364  0.131455  0.337043   \n",
            "\n",
            "userId        604       605       606       607       608       609       610  \n",
            "movieId                                                                        \n",
            "1        0.085768  0.179456  0.639059  0.203222  0.632342  0.034676  0.876822  \n",
            "2        0.105681  0.188495  0.488803  0.164443  0.613914  0.031326  0.735538  \n",
            "\n",
            "[2 rows x 610 columns]\n"
          ]
        }
      ]
    },
    {
      "cell_type": "code",
      "source": [
        "def recommend_items(item_id, num_recommendations=10):\n",
        "\n",
        "    item_ratings = item_predicted_ratings.loc[item_id].sort_values(ascending=False)\n",
        "    already_rated = user_item_matrix.loc[item].dropna().index\n",
        "    recommendations = item_ratings.drop(already_rated)\n",
        "    return recommendations.head(num_recommendations)"
      ],
      "metadata": {
        "id": "_9YuHLKrPY7s"
      },
      "execution_count": null,
      "outputs": []
    },
    {
      "cell_type": "code",
      "source": [
        "# Get recommendations for a item (e.g., item with ID 1)\n",
        "print(recommend_items(1))"
      ],
      "metadata": {
        "colab": {
          "base_uri": "https://localhost:8080/"
        },
        "id": "8qpDnn-0PkcU",
        "outputId": "0a63d042-21ac-4c35-aa38-5ce8750214d9"
      },
      "execution_count": null,
      "outputs": [
        {
          "output_type": "stream",
          "name": "stdout",
          "text": [
            "userId\n",
            "414    1.641568\n",
            "474    1.178655\n",
            "599    1.105705\n",
            "448    1.012336\n",
            "380    0.988449\n",
            "274    0.929589\n",
            "68     0.892981\n",
            "610    0.876822\n",
            "249    0.772306\n",
            "288    0.767297\n",
            "Name: 1, dtype: object\n"
          ]
        }
      ]
    },
    {
      "cell_type": "code",
      "source": [
        "import pandas as pd\n",
        "import numpy as np\n",
        "from sklearn.metrics.pairwise import cosine_similarity\n",
        "import seaborn as sns\n",
        "import matplotlib.pyplot as plt\n",
        "\n",
        "# Load the dataset\n",
        "movies = pd.read_csv('/content/drive/MyDrive/movies.csv')\n",
        "ratings = pd.read_csv('/content/drive/MyDrive/ratings.csv')\n",
        "\n",
        "# Creating the user-item matrix\n",
        "user_item_matrix = ratings.pivot(index='movieId', columns='userId', values='rating')\n",
        "user_item_matrix_filled = user_item_matrix.fillna(0)\n",
        "\n",
        "# Computing item-item similarity using cosine similarity\n",
        "item_similarity = cosine_similarity(user_item_matrix_filled)\n",
        "item_similarity_df = pd.DataFrame(item_similarity, index=user_item_matrix_filled.index, columns=user_item_matrix_filled.index)\n",
        "\n",
        "# Create an empty DataFrame to store predicted ratings\n",
        "item_predicted_ratings = pd.DataFrame(index=user_item_matrix.index, columns=user_item_matrix.columns)\n",
        "\n",
        "# Iterating over all items and calculating weighted sum for predicted ratings\n",
        "for item in user_item_matrix.index:\n",
        "    sim_scores = item_similarity_df[item]\n",
        "    weighted_sum = sim_scores.values @ user_item_matrix_filled\n",
        "    sim_sum = np.abs(sim_scores).sum()\n",
        "    item_predicted_ratings.loc[item] = weighted_sum / sim_sum\n",
        "\n",
        "# Recommendation function\n",
        "def recommend_items(item_id, num_recommendations=10):\n",
        "    # Sort predicted ratings for the given item in descending order\n",
        "    item_ratings = item_predicted_ratings.loc[item_id].sort_values(ascending=False)\n",
        "\n",
        "    # Get movies that the user has already rated\n",
        "    already_rated = user_item_matrix.loc[item_id].sort_values(ascending=False)\n",
        "\n",
        "    # Drop movies that the user has already rated\n",
        "    recommendations = item_ratings.drop(already_rated.index)\n",
        "\n",
        "    return recommendations.head(num_recommendations)\n",
        "\n",
        "# Recommend for a user (for item ID 1 in this case)\n",
        "print(recommend_items(1))\n"
      ],
      "metadata": {
        "id": "b_atcLqrQdml",
        "colab": {
          "base_uri": "https://localhost:8080/",
          "height": 375
        },
        "outputId": "ff6c62bf-d997-4cff-810f-08dee8d91ade"
      },
      "execution_count": null,
      "outputs": [
        {
          "output_type": "error",
          "ename": "FileNotFoundError",
          "evalue": "[Errno 2] No such file or directory: '/content/drive/MyDrive/movies.csv'",
          "traceback": [
            "\u001b[0;31m---------------------------------------------------------------------------\u001b[0m",
            "\u001b[0;31mFileNotFoundError\u001b[0m                         Traceback (most recent call last)",
            "\u001b[0;32m<ipython-input-1-088399ce4fda>\u001b[0m in \u001b[0;36m<cell line: 8>\u001b[0;34m()\u001b[0m\n\u001b[1;32m      6\u001b[0m \u001b[0;34m\u001b[0m\u001b[0m\n\u001b[1;32m      7\u001b[0m \u001b[0;31m# Load the dataset\u001b[0m\u001b[0;34m\u001b[0m\u001b[0;34m\u001b[0m\u001b[0m\n\u001b[0;32m----> 8\u001b[0;31m \u001b[0mmovies\u001b[0m \u001b[0;34m=\u001b[0m \u001b[0mpd\u001b[0m\u001b[0;34m.\u001b[0m\u001b[0mread_csv\u001b[0m\u001b[0;34m(\u001b[0m\u001b[0;34m'/content/drive/MyDrive/movies.csv'\u001b[0m\u001b[0;34m)\u001b[0m\u001b[0;34m\u001b[0m\u001b[0;34m\u001b[0m\u001b[0m\n\u001b[0m\u001b[1;32m      9\u001b[0m \u001b[0mratings\u001b[0m \u001b[0;34m=\u001b[0m \u001b[0mpd\u001b[0m\u001b[0;34m.\u001b[0m\u001b[0mread_csv\u001b[0m\u001b[0;34m(\u001b[0m\u001b[0;34m'/content/drive/MyDrive/ratings.csv'\u001b[0m\u001b[0;34m)\u001b[0m\u001b[0;34m\u001b[0m\u001b[0;34m\u001b[0m\u001b[0m\n\u001b[1;32m     10\u001b[0m \u001b[0;34m\u001b[0m\u001b[0m\n",
            "\u001b[0;32m/usr/local/lib/python3.10/dist-packages/pandas/io/parsers/readers.py\u001b[0m in \u001b[0;36mread_csv\u001b[0;34m(filepath_or_buffer, sep, delimiter, header, names, index_col, usecols, dtype, engine, converters, true_values, false_values, skipinitialspace, skiprows, skipfooter, nrows, na_values, keep_default_na, na_filter, verbose, skip_blank_lines, parse_dates, infer_datetime_format, keep_date_col, date_parser, date_format, dayfirst, cache_dates, iterator, chunksize, compression, thousands, decimal, lineterminator, quotechar, quoting, doublequote, escapechar, comment, encoding, encoding_errors, dialect, on_bad_lines, delim_whitespace, low_memory, memory_map, float_precision, storage_options, dtype_backend)\u001b[0m\n\u001b[1;32m   1024\u001b[0m     \u001b[0mkwds\u001b[0m\u001b[0;34m.\u001b[0m\u001b[0mupdate\u001b[0m\u001b[0;34m(\u001b[0m\u001b[0mkwds_defaults\u001b[0m\u001b[0;34m)\u001b[0m\u001b[0;34m\u001b[0m\u001b[0;34m\u001b[0m\u001b[0m\n\u001b[1;32m   1025\u001b[0m \u001b[0;34m\u001b[0m\u001b[0m\n\u001b[0;32m-> 1026\u001b[0;31m     \u001b[0;32mreturn\u001b[0m \u001b[0m_read\u001b[0m\u001b[0;34m(\u001b[0m\u001b[0mfilepath_or_buffer\u001b[0m\u001b[0;34m,\u001b[0m \u001b[0mkwds\u001b[0m\u001b[0;34m)\u001b[0m\u001b[0;34m\u001b[0m\u001b[0;34m\u001b[0m\u001b[0m\n\u001b[0m\u001b[1;32m   1027\u001b[0m \u001b[0;34m\u001b[0m\u001b[0m\n\u001b[1;32m   1028\u001b[0m \u001b[0;34m\u001b[0m\u001b[0m\n",
            "\u001b[0;32m/usr/local/lib/python3.10/dist-packages/pandas/io/parsers/readers.py\u001b[0m in \u001b[0;36m_read\u001b[0;34m(filepath_or_buffer, kwds)\u001b[0m\n\u001b[1;32m    618\u001b[0m \u001b[0;34m\u001b[0m\u001b[0m\n\u001b[1;32m    619\u001b[0m     \u001b[0;31m# Create the parser.\u001b[0m\u001b[0;34m\u001b[0m\u001b[0;34m\u001b[0m\u001b[0m\n\u001b[0;32m--> 620\u001b[0;31m     \u001b[0mparser\u001b[0m \u001b[0;34m=\u001b[0m \u001b[0mTextFileReader\u001b[0m\u001b[0;34m(\u001b[0m\u001b[0mfilepath_or_buffer\u001b[0m\u001b[0;34m,\u001b[0m \u001b[0;34m**\u001b[0m\u001b[0mkwds\u001b[0m\u001b[0;34m)\u001b[0m\u001b[0;34m\u001b[0m\u001b[0;34m\u001b[0m\u001b[0m\n\u001b[0m\u001b[1;32m    621\u001b[0m \u001b[0;34m\u001b[0m\u001b[0m\n\u001b[1;32m    622\u001b[0m     \u001b[0;32mif\u001b[0m \u001b[0mchunksize\u001b[0m \u001b[0;32mor\u001b[0m \u001b[0miterator\u001b[0m\u001b[0;34m:\u001b[0m\u001b[0;34m\u001b[0m\u001b[0;34m\u001b[0m\u001b[0m\n",
            "\u001b[0;32m/usr/local/lib/python3.10/dist-packages/pandas/io/parsers/readers.py\u001b[0m in \u001b[0;36m__init__\u001b[0;34m(self, f, engine, **kwds)\u001b[0m\n\u001b[1;32m   1618\u001b[0m \u001b[0;34m\u001b[0m\u001b[0m\n\u001b[1;32m   1619\u001b[0m         \u001b[0mself\u001b[0m\u001b[0;34m.\u001b[0m\u001b[0mhandles\u001b[0m\u001b[0;34m:\u001b[0m \u001b[0mIOHandles\u001b[0m \u001b[0;34m|\u001b[0m \u001b[0;32mNone\u001b[0m \u001b[0;34m=\u001b[0m \u001b[0;32mNone\u001b[0m\u001b[0;34m\u001b[0m\u001b[0;34m\u001b[0m\u001b[0m\n\u001b[0;32m-> 1620\u001b[0;31m         \u001b[0mself\u001b[0m\u001b[0;34m.\u001b[0m\u001b[0m_engine\u001b[0m \u001b[0;34m=\u001b[0m \u001b[0mself\u001b[0m\u001b[0;34m.\u001b[0m\u001b[0m_make_engine\u001b[0m\u001b[0;34m(\u001b[0m\u001b[0mf\u001b[0m\u001b[0;34m,\u001b[0m \u001b[0mself\u001b[0m\u001b[0;34m.\u001b[0m\u001b[0mengine\u001b[0m\u001b[0;34m)\u001b[0m\u001b[0;34m\u001b[0m\u001b[0;34m\u001b[0m\u001b[0m\n\u001b[0m\u001b[1;32m   1621\u001b[0m \u001b[0;34m\u001b[0m\u001b[0m\n\u001b[1;32m   1622\u001b[0m     \u001b[0;32mdef\u001b[0m \u001b[0mclose\u001b[0m\u001b[0;34m(\u001b[0m\u001b[0mself\u001b[0m\u001b[0;34m)\u001b[0m \u001b[0;34m->\u001b[0m \u001b[0;32mNone\u001b[0m\u001b[0;34m:\u001b[0m\u001b[0;34m\u001b[0m\u001b[0;34m\u001b[0m\u001b[0m\n",
            "\u001b[0;32m/usr/local/lib/python3.10/dist-packages/pandas/io/parsers/readers.py\u001b[0m in \u001b[0;36m_make_engine\u001b[0;34m(self, f, engine)\u001b[0m\n\u001b[1;32m   1878\u001b[0m                 \u001b[0;32mif\u001b[0m \u001b[0;34m\"b\"\u001b[0m \u001b[0;32mnot\u001b[0m \u001b[0;32min\u001b[0m \u001b[0mmode\u001b[0m\u001b[0;34m:\u001b[0m\u001b[0;34m\u001b[0m\u001b[0;34m\u001b[0m\u001b[0m\n\u001b[1;32m   1879\u001b[0m                     \u001b[0mmode\u001b[0m \u001b[0;34m+=\u001b[0m \u001b[0;34m\"b\"\u001b[0m\u001b[0;34m\u001b[0m\u001b[0;34m\u001b[0m\u001b[0m\n\u001b[0;32m-> 1880\u001b[0;31m             self.handles = get_handle(\n\u001b[0m\u001b[1;32m   1881\u001b[0m                 \u001b[0mf\u001b[0m\u001b[0;34m,\u001b[0m\u001b[0;34m\u001b[0m\u001b[0;34m\u001b[0m\u001b[0m\n\u001b[1;32m   1882\u001b[0m                 \u001b[0mmode\u001b[0m\u001b[0;34m,\u001b[0m\u001b[0;34m\u001b[0m\u001b[0;34m\u001b[0m\u001b[0m\n",
            "\u001b[0;32m/usr/local/lib/python3.10/dist-packages/pandas/io/common.py\u001b[0m in \u001b[0;36mget_handle\u001b[0;34m(path_or_buf, mode, encoding, compression, memory_map, is_text, errors, storage_options)\u001b[0m\n\u001b[1;32m    871\u001b[0m         \u001b[0;32mif\u001b[0m \u001b[0mioargs\u001b[0m\u001b[0;34m.\u001b[0m\u001b[0mencoding\u001b[0m \u001b[0;32mand\u001b[0m \u001b[0;34m\"b\"\u001b[0m \u001b[0;32mnot\u001b[0m \u001b[0;32min\u001b[0m \u001b[0mioargs\u001b[0m\u001b[0;34m.\u001b[0m\u001b[0mmode\u001b[0m\u001b[0;34m:\u001b[0m\u001b[0;34m\u001b[0m\u001b[0;34m\u001b[0m\u001b[0m\n\u001b[1;32m    872\u001b[0m             \u001b[0;31m# Encoding\u001b[0m\u001b[0;34m\u001b[0m\u001b[0;34m\u001b[0m\u001b[0m\n\u001b[0;32m--> 873\u001b[0;31m             handle = open(\n\u001b[0m\u001b[1;32m    874\u001b[0m                 \u001b[0mhandle\u001b[0m\u001b[0;34m,\u001b[0m\u001b[0;34m\u001b[0m\u001b[0;34m\u001b[0m\u001b[0m\n\u001b[1;32m    875\u001b[0m                 \u001b[0mioargs\u001b[0m\u001b[0;34m.\u001b[0m\u001b[0mmode\u001b[0m\u001b[0;34m,\u001b[0m\u001b[0;34m\u001b[0m\u001b[0;34m\u001b[0m\u001b[0m\n",
            "\u001b[0;31mFileNotFoundError\u001b[0m: [Errno 2] No such file or directory: '/content/drive/MyDrive/movies.csv'"
          ]
        }
      ]
    },
    {
      "cell_type": "code",
      "source": [
        "from google.colab import drive\n",
        "drive.mount('/content/drive')"
      ],
      "metadata": {
        "id": "0JKN-_gavvQD"
      },
      "execution_count": null,
      "outputs": []
    }
  ]
}